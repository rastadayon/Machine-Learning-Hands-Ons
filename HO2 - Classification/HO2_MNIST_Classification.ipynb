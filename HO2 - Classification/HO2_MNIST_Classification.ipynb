{
  "nbformat": 4,
  "nbformat_minor": 0,
  "metadata": {
    "kernelspec": {
      "display_name": "Python 3",
      "language": "python",
      "name": "python3"
    },
    "language_info": {
      "codemirror_mode": {
        "name": "ipython",
        "version": 3
      },
      "file_extension": ".py",
      "mimetype": "text/x-python",
      "name": "python",
      "nbconvert_exporter": "python",
      "pygments_lexer": "ipython3",
      "version": "3.6.9"
    },
    "colab": {
      "name": "HO2 Task - Classification - ML2020.ipynb",
      "provenance": []
    }
  },
  "cells": [
    {
      "cell_type": "markdown",
      "metadata": {
        "id": "dchUdf0N4G_3"
      },
      "source": [
        "###  <font color=red>Working with MNIST Dataset</font> ###"
      ]
    },
    {
      "cell_type": "markdown",
      "metadata": {
        "id": "EbgF-0v54G_4"
      },
      "source": [
        "## **MNIST dataset consists of 70,000 images of digits handwritten by students and employees of US Census Bureau.**"
      ]
    },
    {
      "cell_type": "markdown",
      "metadata": {
        "id": "YPw9klKK4G_4"
      },
      "source": [
        "You are supposed to perform a binary classification task, separating digit 4 from others (0,1,2,3,5,6,7,8,9). The data could be downloaded using the code below:"
      ]
    },
    {
      "cell_type": "code",
      "metadata": {
        "id": "g3JUjZWZ4G_5"
      },
      "source": [
        "import matplotlib.pyplot as plt\n",
        "from sklearn.datasets import fetch_openml\n",
        "import pandas as pd\n",
        "import numpy as np\n",
        "import random\n",
        "from sklearn.model_selection import train_test_split\n",
        "from sklearn.preprocessing import label_binarize\n",
        "from sklearn.naive_bayes import GaussianNB"
      ],
      "execution_count": null,
      "outputs": []
    },
    {
      "cell_type": "code",
      "metadata": {
        "id": "pne3PtxF4G_6"
      },
      "source": [
        "# This will take less than a minute to run.\n",
        "\n",
        "X, y = fetch_openml('mnist_784', version=1, return_X_y=True)"
      ],
      "execution_count": null,
      "outputs": []
    },
    {
      "cell_type": "markdown",
      "metadata": {
        "id": "KYgEjcD24G_6"
      },
      "source": [
        "### <font color=green>1:</font> ###\n",
        "\n",
        "__In the first step, you are going to get acquainted with the dataset.__\n",
        "\n",
        "Randomly, plot three digits from the dataset."
      ]
    },
    {
      "cell_type": "code",
      "metadata": {
        "id": "10Ohy3OI4G_6",
        "outputId": "232140e1-7836-416c-8c80-4e52161f07ad"
      },
      "source": [
        "digits = np.array(random.sample(list(np.unique(y)),3))\n",
        "M = 1\n",
        "dim = int(np.sqrt(X.shape[1]))\n",
        "\n",
        "fig, axs = plt.subplots(len(digits), M, figsize=(20,20))\n",
        "\n",
        "for i,d in enumerate(digits):\n",
        "    for j in range(M):\n",
        "        axs[i].imshow(X[y==d][j].reshape((dim,dim)))\n",
        "        axs[i].axis('off')\n"
      ],
      "execution_count": null,
      "outputs": [
        {
          "data": {
            "image/png": "[encoded data removed]",
            "text/plain": [
              "<Figure size 1440x1440 with 3 Axes>"
            ]
          },
          "metadata": {
            "needs_background": "light"
          },
          "output_type": "display_data"
        }
      ]
    },
    {
      "cell_type": "markdown",
      "metadata": {
        "id": "wWXv5YpP4G_8"
      },
      "source": [
        "### <font color=green>2:</font> ###\n",
        "__In the second step, you should build your dataset. Do as follows:__\n",
        "* Split your training and testing dataset (80% and 20%).\n",
        "* Set the random_state to 10.\n",
        "* As your goal is to identify digit 4, create the target vectors for this classification task  <font color=red>(note that you are training a binary classifier)</font>"
      ]
    },
    {
      "cell_type": "code",
      "metadata": {
        "id": "_TnTmU-44G_8"
      },
      "source": [
        "y = label_binarize(y, classes=np.unique(y))[:,4]\n",
        "X_train, X_test, y_train, y_test = train_test_split(X, y, test_size=0.2, random_state=10)"
      ],
      "execution_count": null,
      "outputs": []
    },
    {
      "cell_type": "markdown",
      "metadata": {
        "id": "ahR_w5Ke4G_8"
      },
      "source": [
        "### <font color=green>3:</font> ###\n",
        "__Do the classification task using a <font color=red>Gaussian Naive Bayes Classifier</font>__"
      ]
    },
    {
      "cell_type": "code",
      "metadata": {
        "id": "ir-KU5Kr4G_9"
      },
      "source": [
        "nb = GaussianNB()\n",
        "nb.fit(X_train, y_train)\n",
        "y_pred = nb.predict(X_test)"
      ],
      "execution_count": null,
      "outputs": []
    },
    {
      "cell_type": "markdown",
      "metadata": {
        "id": "4An52jWp4G_9"
      },
      "source": [
        "### <font color=green>4:</font> ###\n",
        "__Calculate the following values:__\n",
        "* Confusion Matrix\n",
        "* Accuracy\n",
        "* Sensitivity\n",
        "* Specificity\n",
        "* Precision\n",
        "* Recall"
      ]
    },
    {
      "cell_type": "code",
      "metadata": {
        "id": "zAy__kS44G_9",
        "outputId": "1a07b5ec-8a11-4ea1-fb4f-9f070a7c6d4f"
      },
      "source": [
        "from sklearn.metrics import confusion_matrix\n",
        "from sklearn.metrics import classification_report\n",
        "from sklearn.metrics import plot_confusion_matrix\n",
        "\n",
        "print(classification_report(y_test, y_pred, labels=np.unique(y_test)))"
      ],
      "execution_count": null,
      "outputs": [
        {
          "name": "stdout",
          "output_type": "stream",
          "text": [
            "              precision    recall  f1-score   support\n",
            "\n",
            "           0       0.99      0.34      0.51     12609\n",
            "           1       0.14      0.98      0.25      1391\n",
            "\n",
            "    accuracy                           0.40     14000\n",
            "   macro avg       0.57      0.66      0.38     14000\n",
            "weighted avg       0.91      0.40      0.48     14000\n",
            "\n"
          ]
        }
      ]
    },
    {
      "cell_type": "markdown",
      "metadata": {
        "id": "dZutG6gN4G_-"
      },
      "source": [
        "in the classification report above recall of the positive class is also known as sensitivity and recall of the negative class is specificity."
      ]
    },
    {
      "cell_type": "code",
      "metadata": {
        "id": "9RGC4r-M4G_-",
        "outputId": "d466746f-4e88-4106-90f5-5308091159ef"
      },
      "source": [
        "plot_confusion_matrix(nb, X_test, y_test)"
      ],
      "execution_count": null,
      "outputs": [
        {
          "data": {
            "text/plain": [
              "<sklearn.metrics._plot.confusion_matrix.ConfusionMatrixDisplay at 0x7ff734bec470>"
            ]
          },
          "execution_count": 44,
          "metadata": {},
          "output_type": "execute_result"
        },
        {
          "data": {
            "image/png": "[encoded data removed]",
            "text/plain": [
              "<Figure size 432x288 with 2 Axes>"
            ]
          },
          "metadata": {
            "needs_background": "light"
          },
          "output_type": "display_data"
        }
      ]
    },
    {
      "cell_type": "markdown",
      "metadata": {
        "id": "5yXIDKCV4G_-"
      },
      "source": [
        "### <font color=green>5:</font> ###\n",
        "__Now plot <font color=red>the ROC curve</font>, then calculate <font color=red>Area Under ROC (AUROC)</font>__"
      ]
    },
    {
      "cell_type": "code",
      "metadata": {
        "id": "kBDwGP7n4G__",
        "outputId": "28ec48fe-ea84-4599-ae57-cf15470e75a5"
      },
      "source": [
        "from sklearn.metrics import auc , roc_curve\n",
        "\n",
        "# roc_curve(y_test, y_pred)\n",
        "def plot_roc(y_test, y_score, classifier_type = 'Gaussion Naive Bayes'):\n",
        "    fpr = dict()\n",
        "    tpr = dict()\n",
        "    roc_auc = dict()\n",
        "    \n",
        "    fpr, tpr, _ = roc_curve(y_test, y_score)\n",
        "    roc_auc = auc(fpr, tpr)\n",
        "    \n",
        "    lw = 2\n",
        "    plt.plot(fpr, tpr, color='darkorange',\n",
        "             lw=lw, label='ROC curve (area = %0.2f)' % roc_auc)\n",
        "    plt.plot([0, 1], [0, 1], color='navy', lw=lw, linestyle='--')\n",
        "\n",
        "    plt.xlabel('False Positive Rate')\n",
        "    plt.ylabel('True Positive Rate')\n",
        "    plt.title('roc for '+ classifier_type)\n",
        "    plt.legend(loc=\"lower right\")\n",
        "    plt.show()\n",
        "\n",
        "plot_roc(y_test, y_pred)"
      ],
      "execution_count": null,
      "outputs": [
        {
          "data": {
            "image/png": "[encoded data removed]",
            "text/plain": [
              "<Figure size 432x288 with 1 Axes>"
            ]
          },
          "metadata": {
            "needs_background": "light"
          },
          "output_type": "display_data"
        }
      ]
    },
    {
      "cell_type": "markdown",
      "metadata": {
        "id": "DYHewvGM4G__"
      },
      "source": [
        "### <font color=green>6:</font> ###\n",
        "__Finally, apply a 5-fold cross validation, and report your <font color=red>mean and std values</font>.__"
      ]
    },
    {
      "cell_type": "code",
      "metadata": {
        "id": "9G1RMb1P4G__",
        "outputId": "d49fe06b-09fc-46ce-cecd-10e85fd2b929"
      },
      "source": [
        "from sklearn.model_selection import cross_val_score\n",
        "res = cross_val_score(nb, X, y)\n",
        "print(f'mean : {np.mean(res)}\\tvar : {np.std(res)}')"
      ],
      "execution_count": null,
      "outputs": [
        {
          "name": "stdout",
          "output_type": "stream",
          "text": [
            "mean : 0.38312857142857143\tvar : 0.018205986904962713\n"
          ]
        }
      ]
    },
    {
      "cell_type": "markdown",
      "metadata": {
        "id": "Zmw8pfhy4G__"
      },
      "source": [
        "### <font color=green>7:</font> ###\n",
        "__How are your results?__\n",
        "\n",
        "__Is <font color=red>Gaussian Naive Bayes Classifier</font> a good one for this problem?__"
      ]
    },
    {
      "cell_type": "markdown",
      "metadata": {
        "id": "Axc2ICwH4HAA"
      },
      "source": [
        "No. Gaussian Naive Bayes classifier recived on average accuracy of 40 percents and predicted many of other numbers as number **4**."
      ]
    },
    {
      "cell_type": "markdown",
      "metadata": {
        "id": "CW_jjxl64HAA"
      },
      "source": [
        "### __Repeat all the steps using <font color=green>Nearest Centroid Classifier</font> and <font color=green>Logistic Regression Classifier</font>.__ ### \n",
        "* You just need to make some changes to step 3!\n",
        "* You should report all the values in steps 4, 5, and 6"
      ]
    },
    {
      "cell_type": "markdown",
      "metadata": {
        "id": "y0bQXx8Z4HAA"
      },
      "source": [
        "### Nearest Centroid Classifier"
      ]
    },
    {
      "cell_type": "code",
      "metadata": {
        "id": "sPDeCI654HAA"
      },
      "source": [
        "from sklearn.neighbors import NearestCentroid\n",
        "from sklearn.linear_model import LogisticRegression"
      ],
      "execution_count": null,
      "outputs": []
    },
    {
      "cell_type": "code",
      "metadata": {
        "id": "Risx1kG84HAA"
      },
      "source": [
        "nc = NearestCentroid()\n",
        "\n",
        "nc.fit(X_train, y_train)\n",
        "\n",
        "nc_pred = nc.predict(X_test)"
      ],
      "execution_count": null,
      "outputs": []
    },
    {
      "cell_type": "code",
      "metadata": {
        "id": "nVMHSNaL4HAB",
        "outputId": "f9a31802-e65d-4c66-9095-0e1a372798fd"
      },
      "source": [
        "print(\"classification report for nearest centroid\\n\",classification_report(y_test, y_pred, labels=np.unique(y_test)))"
      ],
      "execution_count": null,
      "outputs": [
        {
          "name": "stdout",
          "output_type": "stream",
          "text": [
            "classification report for nearest centroid\n",
            "               precision    recall  f1-score   support\n",
            "\n",
            "           0       0.99      0.34      0.51     12609\n",
            "           1       0.14      0.98      0.25      1391\n",
            "\n",
            "    accuracy                           0.40     14000\n",
            "   macro avg       0.57      0.66      0.38     14000\n",
            "weighted avg       0.91      0.40      0.48     14000\n",
            "\n"
          ]
        }
      ]
    },
    {
      "cell_type": "code",
      "metadata": {
        "id": "iLgONXz64HAB",
        "outputId": "eec0e435-91c7-451c-f4a7-c82886ed299a"
      },
      "source": [
        "plot_confusion_matrix(nc, X_test, y_test)"
      ],
      "execution_count": null,
      "outputs": [
        {
          "data": {
            "text/plain": [
              "<sklearn.metrics._plot.confusion_matrix.ConfusionMatrixDisplay at 0x7ff73ac9c320>"
            ]
          },
          "execution_count": 76,
          "metadata": {},
          "output_type": "execute_result"
        },
        {
          "data": {
            "image/png": "[encoded data removed]",
            "text/plain": [
              "<Figure size 432x288 with 2 Axes>"
            ]
          },
          "metadata": {
            "needs_background": "light"
          },
          "output_type": "display_data"
        }
      ]
    },
    {
      "cell_type": "code",
      "metadata": {
        "id": "tgl63YMg4HAB",
        "outputId": "9f340438-0896-466a-e4dd-d8598f1b666e"
      },
      "source": [
        "plot_roc(y_test, nc_pred, \" Nearest Centroid Classifier\")"
      ],
      "execution_count": null,
      "outputs": [
        {
          "data": {
            "image/png": "[encoded data removed]",
            "text/plain": [
              "<Figure size 432x288 with 1 Axes>"
            ]
          },
          "metadata": {
            "needs_background": "light"
          },
          "output_type": "display_data"
        }
      ]
    },
    {
      "cell_type": "markdown",
      "metadata": {
        "id": "A08HvR6e4HAB"
      },
      "source": [
        "### Logistic Regression"
      ]
    },
    {
      "cell_type": "code",
      "metadata": {
        "id": "Xcm9Fd6c4HAC",
        "outputId": "01abc238-0fab-407f-a4f6-670e0f5d8439"
      },
      "source": [
        "lr = LogisticRegression()\n",
        "\n",
        "lr.fit(X_train, y_train)\n",
        "\n",
        "lr_pred = lr.predict(X_test)"
      ],
      "execution_count": null,
      "outputs": [
        {
          "name": "stderr",
          "output_type": "stream",
          "text": [
            "/home/rastadayon/.local/lib/python3.6/site-packages/sklearn/linear_model/_logistic.py:764: ConvergenceWarning: lbfgs failed to converge (status=1):\n",
            "STOP: TOTAL NO. of ITERATIONS REACHED LIMIT.\n",
            "\n",
            "Increase the number of iterations (max_iter) or scale the data as shown in:\n",
            "    https://scikit-learn.org/stable/modules/preprocessing.html\n",
            "Please also refer to the documentation for alternative solver options:\n",
            "    https://scikit-learn.org/stable/modules/linear_model.html#logistic-regression\n",
            "  extra_warning_msg=_LOGISTIC_SOLVER_CONVERGENCE_MSG)\n"
          ]
        }
      ]
    },
    {
      "cell_type": "code",
      "metadata": {
        "id": "L6OnGlDZ4HAC",
        "outputId": "42591b40-15ba-4c31-bb32-45ecdb0ede25"
      },
      "source": [
        "print(\"classification report for logistic regression\\n\",classification_report(y_test, y_pred, labels=np.unique(y_test)))"
      ],
      "execution_count": null,
      "outputs": [
        {
          "name": "stdout",
          "output_type": "stream",
          "text": [
            "classification report for logistic regression\n",
            "               precision    recall  f1-score   support\n",
            "\n",
            "           0       0.99      0.34      0.51     12609\n",
            "           1       0.14      0.98      0.25      1391\n",
            "\n",
            "    accuracy                           0.40     14000\n",
            "   macro avg       0.57      0.66      0.38     14000\n",
            "weighted avg       0.91      0.40      0.48     14000\n",
            "\n"
          ]
        }
      ]
    },
    {
      "cell_type": "code",
      "metadata": {
        "id": "xK4Epiga4HAC",
        "outputId": "37e6b7d9-4e81-4ff8-fbcd-ee98682c3376"
      },
      "source": [
        "plot_confusion_matrix(lr, X_test, y_test)"
      ],
      "execution_count": null,
      "outputs": [
        {
          "data": {
            "text/plain": [
              "<sklearn.metrics._plot.confusion_matrix.ConfusionMatrixDisplay at 0x7ff7350b2e80>"
            ]
          },
          "execution_count": 84,
          "metadata": {},
          "output_type": "execute_result"
        },
        {
          "data": {
            "image/png": "[encoded data removed]",
            "text/plain": [
              "<Figure size 432x288 with 2 Axes>"
            ]
          },
          "metadata": {
            "needs_background": "light"
          },
          "output_type": "display_data"
        }
      ]
    },
    {
      "cell_type": "code",
      "metadata": {
        "id": "NiCSJlKK4HAC",
        "outputId": "b615986e-1e3b-4fe1-8c82-947113a1e514"
      },
      "source": [
        "plot_roc(y_test, lr_pred, \" Logistic Regression Classifier\")"
      ],
      "execution_count": null,
      "outputs": [
        {
          "data": {
            "image/png": "[encoded data removed]",
            "text/plain": [
              "<Figure size 432x288 with 1 Axes>"
            ]
          },
          "metadata": {
            "needs_background": "light"
          },
          "output_type": "display_data"
        }
      ]
    },
    {
      "cell_type": "markdown",
      "metadata": {
        "id": "FDkcPBJY4HAD"
      },
      "source": [
        "### Which one is better?  ###"
      ]
    },
    {
      "cell_type": "markdown",
      "metadata": {
        "id": "MMNFtl5l4HAD"
      },
      "source": [
        "None of the above classifiers recieved good accuracies. To see which is better depends on which of the precision or recall values are more important. If not classifying other numbers as number 4 is more important then Logistic regression is a better classifier. If number of correctly classified number 4s is most important then naive bayes classifier is slightly better. Overall logistic regression did a better job even though it did not do very good."
      ]
    },
    {
      "cell_type": "markdown",
      "metadata": {
        "id": "9Qufn3Im4HAD"
      },
      "source": [
        "_________________________________________________________"
      ]
    }
  ]
}